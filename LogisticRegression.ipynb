{
 "cells": [
  {
   "cell_type": "code",
   "execution_count": 83,
   "id": "7a3d5fee",
   "metadata": {},
   "outputs": [],
   "source": [
    "import numpy as np\n",
    "import pandas as pd\n",
    "import matplotlib.pyplot as plt\n",
    "from sklearn.preprocessing import StandardScaler\n",
    "from sklearn.metrics import accuracy_score, confusion_matrix\n",
    "\n",
    "scaler = StandardScaler()"
   ]
  },
  {
   "cell_type": "code",
   "execution_count": 225,
   "id": "84e52a7d",
   "metadata": {},
   "outputs": [],
   "source": [
    "class LogisticRegressionQuadratic:\n",
    "    \"\"\"\n",
    "    This class implements a logistic regression algorithm with a quadratic hypothesis in the argument of the sigmoid function\n",
    "    \"\"\"\n",
    "    def __init__(self, lr=0.01, num_iter=100000, reg=0, tol=1e-3):\n",
    "        self.lr = lr\n",
    "        self.num_iter = num_iter\n",
    "        self.reg = reg\n",
    "        self.tol = tol\n",
    "        self.w = None\n",
    "        self.b = None\n",
    "        self.M = None\n",
    "\n",
    "    def sigmoid(self, z):\n",
    "        return np.where(z >= 0, 1 / (1 + np.exp(-z)), np.exp(z) / (1 + np.exp(z))) #to avoid overflow errors\n",
    "    \n",
    "    def quadratic_function( self, x ):\n",
    "        return self.b + self.w @ x + (self.M @ x) @ x\n",
    "        \n",
    "            \n",
    "    def fit(self, X, y):\n",
    "        # Initialize weights, bias and the quadratic matrix M\n",
    "        self.w = np.zeros(X.shape[1])\n",
    "        self.b = 0\n",
    "        self.M = np.zeros((X.shape[1], X.shape[1]))\n",
    "        \n",
    "        X = scaler.fit_transform(X)\n",
    "        \n",
    "        X = np.array([np.array(x) for x in X])\n",
    "        \n",
    "        # Gradient descent\n",
    "        for i in range(self.num_iter):\n",
    "        \n",
    "            z = np.array([self.quadratic_function(x) for x in X])\n",
    "            \n",
    "            h = self.sigmoid(z)\n",
    "            \n",
    "            difference = h - y\n",
    "            \n",
    "            grad_b = np.sum( difference )\n",
    "            \n",
    "            grad_w = ( np.array( [ difference @ xt for xt in X.T ] )  - 2 * self.reg * self.w + 2 * self.M @ self.w  ) / X.shape[0]# + self.reg * self.w\n",
    "                         \n",
    "            grad_M = X.T @ np.diag( h * ( 1 - h ) ) @ X - 2 * self.reg * self.M\n",
    "            \n",
    "            self.b -= self.lr * grad_b\n",
    "            self.w -= self.lr * grad_w\n",
    "            self.M += self.lr * grad_M\n",
    "            \n",
    "            # Check for convergence\n",
    "            if np.max(np.abs(self.lr * grad_w)) < self.tol:\n",
    "                break\n",
    "\n",
    "    def predict_prob(self, X):\n",
    "\n",
    "        h = np.array( [ self.sigmoid( self.quadratic_function(x) ) for x in X ] )\n",
    "        return h\n",
    "\n",
    "    def predict(self, X, threshold=0.5):\n",
    "        return np.array(self.predict_prob(X) >= threshold).astype(int)"
   ]
  },
  {
   "cell_type": "code",
   "execution_count": 226,
   "id": "70485b49",
   "metadata": {},
   "outputs": [
    {
     "name": "stdout",
     "output_type": "stream",
     "text": [
      "Bias: -18.857465026978627\n",
      "Coefficients: [1.99380567 2.75917708]\n",
      "Quadratic Coefficients: \n",
      "[[27.09712412  0.98264771]\n",
      " [ 0.98264771 26.3256607 ]]\n",
      "Predicted labels: [1 1 1 1 0 1 1 1 0 1]\n",
      "Real labels: [1 1 0 1 1 0 1 1 1 0]\n",
      "Accuracy: 0.50\n",
      "Confusion matrix:\n",
      "[[0 3]\n",
      " [2 5]]\n"
     ]
    }
   ],
   "source": [
    "n_samples = 1000\n",
    "X = np.random.normal(size=(n_samples, 2))\n",
    "y_nonlinear = lambda X : 2 + 3*X[:,0] + 4*X[:,1] + 0.5*X[:,0]**2 + 0.8*X[:,1]**2\n",
    "y_prob = 1 / (1 + np.exp(-y_nonlinear(X)))\n",
    "y = np.random.binomial(n=1, p=y_prob)\n",
    "\n",
    "\n",
    "# Fit logistic regression model\n",
    "model = LogisticRegressionQuadratic(reg=0.1)\n",
    "model.fit(X, y)\n",
    "\n",
    "# Predict labels for new data\n",
    "X_test = np.random.normal(size=(10, 2))\n",
    "y_pred = model.predict(X_test)\n",
    "y_prob_test = 1 / (1 + np.exp(-y_nonlinear(X_test)))\n",
    "y_test = np.random.binomial(n=1, p=y_prob_test)\n",
    "# Print coefficients and predicted labels\n",
    "print(f\"Bias: {model.b}\")\n",
    "print(f\"Coefficients: {model.w}\")\n",
    "print(f\"Quadratic Coefficients: \\n{model.M}\")\n",
    "print(f\"Predicted labels: {y_pred}\")\n",
    "print(f\"Real labels: {y_test}\")\n",
    "\n",
    "accuracy = accuracy_score(y_test, y_pred)\n",
    "confusion_mat = confusion_matrix(y_test, y_pred)\n",
    "\n",
    "print(f'Accuracy: {accuracy:.2f}')\n",
    "print(f'Confusion matrix:\\n{confusion_mat}')"
   ]
  },
  {
   "cell_type": "code",
   "execution_count": 227,
   "id": "56a373e2",
   "metadata": {},
   "outputs": [
    {
     "name": "stdout",
     "output_type": "stream",
     "text": [
      "Bias: -18.857465026978627\n",
      "Coefficients: [1.99380567 2.75917708]\n",
      "Quadratic Coefficients: \n",
      "[[27.09712412  0.98264771]\n",
      " [ 0.98264771 26.3256607 ]]\n",
      "Accuracy: 0.55\n",
      "Confusion matrix:\n",
      "[[ 697 2142]\n",
      " [2341 4820]]\n"
     ]
    }
   ],
   "source": [
    "# Predict labels for new, more numerous data\n",
    "\n",
    "X_test = np.random.normal(size=(10000, 2))\n",
    "y_pred = model.predict(X_test)\n",
    "y_prob_test = 1 / (1 + np.exp(-y_nonlinear(X_test)))\n",
    "y_test = np.random.binomial(n=1, p=y_prob_test)\n",
    "# Print coefficients and predicted labels\n",
    "print(f\"Bias: {model.b}\")\n",
    "print(f\"Coefficients: {model.w}\")\n",
    "print(f\"Quadratic Coefficients: \\n{model.M}\")\n",
    "\n",
    "accuracy = accuracy_score(y_test, y_pred)\n",
    "confusion_mat = confusion_matrix(y_test, y_pred)\n",
    "\n",
    "print(f'Accuracy: {accuracy:.2f}')\n",
    "print(f'Confusion matrix:\\n{confusion_mat}')"
   ]
  },
  {
   "cell_type": "markdown",
   "id": "04eafb53",
   "metadata": {},
   "source": [
    "The above algorithm clearly does not perform well"
   ]
  },
  {
   "cell_type": "code",
   "execution_count": 218,
   "id": "5f588ffb",
   "metadata": {},
   "outputs": [],
   "source": [
    "class LogisticRegressionAffine:\n",
    "    \"\"\"\n",
    "    This class implements a logistic regression algorithm with an affine hypothesis in the argument of the sigmoid function\n",
    "    \"\"\"\n",
    "    def __init__(self, lr=0.01, num_iter=100000, reg=0, tol=1e-3):\n",
    "        self.lr = lr\n",
    "        self.num_iter = num_iter\n",
    "        self.reg = reg\n",
    "        self.tol = tol\n",
    "        self.w = None\n",
    "        self.b = None\n",
    "\n",
    "    def sigmoid(self, z):\n",
    "        return np.where(z >= 0, 1 / (1 + np.exp(-z)), np.exp(z) / (1 + np.exp(z))) #to avoid overflow errors\n",
    "    \n",
    "    def affine_function( self, x ):\n",
    "        return self.b + self.w @ x \n",
    "        \n",
    "            \n",
    "    def fit(self, X, y):\n",
    "        # Initialize weights, bias\n",
    "        self.w = np.zeros(X.shape[1])\n",
    "        self.b = 0\n",
    "        self.M = np.zeros((X.shape[1], X.shape[1]))\n",
    "        \n",
    "        X = scaler.fit_transform(X)\n",
    "        \n",
    "        X = np.array([np.array(x) for x in X])\n",
    "        \n",
    "        # Gradient descent\n",
    "        for i in range(self.num_iter):\n",
    "        \n",
    "            z = np.array([self.affine_function(x) for x in X])\n",
    "            \n",
    "            h = self.sigmoid(z)\n",
    "            \n",
    "            difference = h - y\n",
    "            \n",
    "            grad_b = np.sum( difference )\n",
    "            \n",
    "            grad_w = ( np.array( [ difference @ xt for xt in X.T ] )  - 2 * self.reg * self.w + 2 * self.M @ self.w  ) / X.shape[0]# + self.reg * self.w\n",
    "            \n",
    "            self.b -= self.lr * grad_b\n",
    "            self.w -= self.lr * grad_w\n",
    "            \n",
    "            # Check for convergence\n",
    "            if np.max(np.abs(self.lr * grad_w)) < self.tol:\n",
    "                break\n",
    "\n",
    "    def predict_prob(self, X):\n",
    "\n",
    "        h = np.array( [ self.sigmoid( self.affine_function(x) ) for x in X ] )\n",
    "        return h\n",
    "\n",
    "    def predict(self, X, threshold=0.5):\n",
    "        return np.array(self.predict_prob(X) >= threshold).astype(int)"
   ]
  },
  {
   "cell_type": "code",
   "execution_count": 219,
   "id": "bacb5d0f",
   "metadata": {},
   "outputs": [
    {
     "name": "stdout",
     "output_type": "stream",
     "text": [
      "Bias: 0.9449888228789497\n",
      "Coefficients: [0.6848812  0.78610568]\n",
      "Predicted labels: [1 1 1 0 1 0 1 1 0 1]\n",
      "Real labels: [1 1 1 1 1 0 1 1 0 1]\n",
      "Accuracy: 0.90\n",
      "Confusion matrix:\n",
      "[[2 0]\n",
      " [1 7]]\n"
     ]
    }
   ],
   "source": [
    "n_samples = 1000\n",
    "X = np.random.normal(size=(n_samples, 2))\n",
    "y_nonlinear = lambda X : 2 + 3*X[:,0] + 4*X[:,1] + 0.5*X[:,0]**2 + 0.8*X[:,1]**2\n",
    "y_prob = 1 / (1 + np.exp(-y_nonlinear(X)))\n",
    "y = np.random.binomial(n=1, p=y_prob)\n",
    "\n",
    "\n",
    "# Fit logistic regression model\n",
    "model_affine = LogisticRegressionAffine(reg=0.1)\n",
    "model_affine.fit(X, y)\n",
    "\n",
    "# Predict labels for new data\n",
    "X_test = np.random.normal(size=(10, 2))\n",
    "y_pred = model_affine.predict(X_test)\n",
    "y_prob_test = 1 / (1 + np.exp(-y_nonlinear(X_test)))\n",
    "y_test = np.random.binomial(n=1, p=y_prob_test)\n",
    "# Print coefficients and predicted labels\n",
    "print(f\"Bias: {model_affine.b}\")\n",
    "print(f\"Coefficients: {model_affine.w}\")\n",
    "print(f\"Predicted labels: {y_pred}\")\n",
    "print(f\"Real labels: {y_test}\")\n",
    "\n",
    "accuracy = accuracy_score(y_test, y_pred)\n",
    "confusion_mat = confusion_matrix(y_test, y_pred)\n",
    "\n",
    "print(f'Accuracy: {accuracy:.2f}')\n",
    "print(f'Confusion matrix:\\n{confusion_mat}')"
   ]
  },
  {
   "cell_type": "code",
   "execution_count": 220,
   "id": "ad3b7429",
   "metadata": {},
   "outputs": [
    {
     "name": "stdout",
     "output_type": "stream",
     "text": [
      "Bias: 0.9449888228789497\n",
      "Coefficients: [0.6848812  0.78610568]\n",
      "Accuracy: 0.85\n",
      "Confusion matrix:\n",
      "[[1675 1318]\n",
      " [ 184 6823]]\n"
     ]
    }
   ],
   "source": [
    "# Predict labels for new, more numerous data\n",
    "\n",
    "X_test = np.random.normal(size=(10000, 2))\n",
    "y_pred = model_affine.predict(X_test)\n",
    "y_prob_test = 1 / (1 + np.exp(-y_nonlinear(X_test)))\n",
    "y_test = np.random.binomial(n=1, p=y_prob_test)\n",
    "# Print coefficients and predicted labels\n",
    "print(f\"Bias: {model_affine.b}\")\n",
    "print(f\"Coefficients: {model_affine.w}\")\n",
    "\n",
    "accuracy = accuracy_score(y_test, y_pred)\n",
    "confusion_mat = confusion_matrix(y_test, y_pred)\n",
    "\n",
    "print(f'Accuracy: {accuracy:.2f}')\n",
    "print(f'Confusion matrix:\\n{confusion_mat}')"
   ]
  },
  {
   "cell_type": "markdown",
   "id": "1d3859eb",
   "metadata": {},
   "source": [
    "The affine hypothesis clearly works better, even though the data has a quadratic dependence"
   ]
  },
  {
   "cell_type": "code",
   "execution_count": 222,
   "id": "57a913fa",
   "metadata": {},
   "outputs": [
    {
     "name": "stdout",
     "output_type": "stream",
     "text": [
      "Accuracy: 1.00\n",
      "Confusion matrix:\n",
      "[[2 0]\n",
      " [0 8]]\n"
     ]
    }
   ],
   "source": [
    "from sklearn.linear_model import LogisticRegression\n",
    "\n",
    "log_reg = LogisticRegression(max_iter=1000)\n",
    "log_reg.fit(X, y)\n",
    "\n",
    "X_test = np.random.normal(size=(10, 2))\n",
    "y_pred = log_reg.predict(X_test)\n",
    "y_prob_test = 1 / (1 + np.exp(-y_nonlinear(X_test)))\n",
    "y_test = np.random.binomial(n=1, p=y_prob_test)\n",
    "\n",
    "\n",
    "# Use the trained model to make predictions on the test data\n",
    "y_pred = log_reg.predict(X_test)\n",
    "\n",
    "# Evaluate the performance of the model\n",
    "accuracy = accuracy_score(y_test, y_pred)\n",
    "confusion_mat = confusion_matrix(y_test, y_pred)\n",
    "print(f'Accuracy: {accuracy:.2f}')\n",
    "print(f'Confusion matrix:\\n{confusion_mat}')"
   ]
  },
  {
   "cell_type": "code",
   "execution_count": 223,
   "id": "0954d600",
   "metadata": {},
   "outputs": [
    {
     "name": "stdout",
     "output_type": "stream",
     "text": [
      "Accuracy: 0.88\n",
      "Confusion matrix:\n",
      "[[2302  681]\n",
      " [ 471 6546]]\n"
     ]
    }
   ],
   "source": [
    "X_test = np.random.normal(size=(10000, 2))\n",
    "y_pred = model.predict(X_test)\n",
    "y_prob_test = 1 / (1 + np.exp(-y_nonlinear(X_test)))\n",
    "y_test = np.random.binomial(n=1, p=y_prob_test)\n",
    "\n",
    "y_pred = log_reg.predict(X_test)\n",
    "\n",
    "accuracy = accuracy_score(y_test, y_pred)\n",
    "confusion_mat = confusion_matrix(y_test, y_pred)\n",
    "\n",
    "print(f'Accuracy: {accuracy:.2f}')\n",
    "print(f'Confusion matrix:\\n{confusion_mat}')"
   ]
  },
  {
   "cell_type": "markdown",
   "id": "d3d03a97",
   "metadata": {},
   "source": [
    "On the other hand the sklearn logistic regression algorithm performs slightly better than mine"
   ]
  },
  {
   "cell_type": "code",
   "execution_count": null,
   "id": "6564da76",
   "metadata": {},
   "outputs": [],
   "source": []
  }
 ],
 "metadata": {
  "kernelspec": {
   "display_name": "Python 3 (ipykernel)",
   "language": "python",
   "name": "python3"
  },
  "language_info": {
   "codemirror_mode": {
    "name": "ipython",
    "version": 3
   },
   "file_extension": ".py",
   "mimetype": "text/x-python",
   "name": "python",
   "nbconvert_exporter": "python",
   "pygments_lexer": "ipython3",
   "version": "3.9.7"
  }
 },
 "nbformat": 4,
 "nbformat_minor": 5
}
